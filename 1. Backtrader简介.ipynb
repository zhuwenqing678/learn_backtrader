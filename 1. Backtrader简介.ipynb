{
 "cells": [
  {
   "cell_type": "code",
   "execution_count": 5,
   "metadata": {
    "collapsed": true
   },
   "outputs": [
    {
     "name": "stdout",
     "output_type": "stream",
     "text": [
      "Package              Version\n",
      "-------------------- ---------\n",
      "argon2-cffi          21.3.0\n",
      "argon2-cffi-bindings 21.2.0\n",
      "asttokens            2.0.5\n",
      "attrs                21.4.0\n",
      "backcall             0.2.0\n",
      "beautifulsoup4       4.10.0\n",
      "bleach               4.1.0\n",
      "brotlipy             0.7.0\n",
      "certifi              2020.6.20\n",
      "cffi                 1.15.0\n",
      "charset-normalizer   2.0.4\n",
      "colorama             0.4.4\n",
      "cryptography         36.0.0\n",
      "debugpy              1.5.1\n",
      "decorator            5.1.1\n",
      "defusedxml           0.7.1\n",
      "entrypoints          0.4\n",
      "executing            0.8.3\n",
      "fastjsonschema       2.15.1\n",
      "idna                 3.3\n",
      "ipykernel            6.9.1\n",
      "ipython              8.2.0\n",
      "ipython-genutils     0.2.0\n",
      "ipywidgets           7.6.5\n",
      "jedi                 0.18.1\n",
      "Jinja2               3.0.3\n",
      "jsonschema           4.4.0\n",
      "jupyter              1.0.0\n",
      "jupyter-client       7.1.2\n",
      "jupyter-console      6.4.3\n",
      "jupyter-core         4.9.2\n",
      "jupyterlab-pygments  0.1.2\n",
      "jupyterlab-widgets   1.0.0\n",
      "MarkupSafe           2.0.1\n",
      "matplotlib-inline    0.1.2\n",
      "MetaTrader5          5.0.43\n",
      "mistune              0.8.4\n",
      "mkl-fft              1.3.1\n",
      "mkl-random           1.2.2\n",
      "mkl-service          2.4.0\n",
      "nbclient             0.5.11\n",
      "nbconvert            6.4.4\n",
      "nbformat             5.3.0\n",
      "nest-asyncio         1.5.5\n",
      "notebook             6.4.8\n",
      "numpy                1.21.5\n",
      "packaging            21.3\n",
      "pandocfilters        1.5.0\n",
      "parso                0.8.3\n",
      "pickleshare          0.7.5\n",
      "pip                  21.2.4\n",
      "prometheus-client    0.13.1\n",
      "prompt-toolkit       3.0.20\n",
      "pure-eval            0.2.2\n",
      "pycparser            2.21\n",
      "Pygments             2.11.2\n",
      "pyOpenSSL            22.0.0\n",
      "pyparsing            3.0.4\n",
      "pyrsistent           0.18.0\n",
      "PySocks              1.7.1\n",
      "python-dateutil      2.8.2\n",
      "pywin32              302\n",
      "pywinpty             2.0.2\n",
      "pyzmq                22.3.0\n",
      "qtconsole            5.3.0\n",
      "QtPy                 2.0.1\n",
      "requests             2.27.1\n",
      "selenium             3.141.0\n",
      "Send2Trash           1.8.0\n",
      "setuptools           61.2.0\n",
      "sip                  4.19.13\n",
      "six                  1.16.0\n",
      "soupsieve            2.3.1\n",
      "stack-data           0.2.0\n",
      "terminado            0.13.1\n",
      "testpath             0.5.0\n",
      "tornado              6.1\n",
      "traitlets            5.1.1\n",
      "typing_extensions    4.1.1\n",
      "urllib3              1.26.8\n",
      "wcwidth              0.2.5\n",
      "webencodings         0.5.1\n",
      "wheel                0.37.1\n",
      "widgetsnbextension   3.5.2\n",
      "win-inet-pton        1.1.0\n",
      "wincertstore         0.2\n",
      "xlwt                 1.3.0\n"
     ]
    }
   ],
   "source": [
    "!pip list"
   ]
  },
  {
   "cell_type": "code",
   "execution_count": 1,
   "outputs": [
    {
     "name": "stdout",
     "output_type": "stream",
     "text": [
      "pip 22.3.1 from C:\\Users\\zhuwe\\PycharmProjects\\lianghuajiaoyi\\lib\\site-packages\\pip (python 3.10)\n",
      "\n"
     ]
    }
   ],
   "source": [
    "!pip -V"
   ],
   "metadata": {
    "collapsed": false
   }
  },
  {
   "cell_type": "code",
   "execution_count": 2,
   "outputs": [
    {
     "name": "stdout",
     "output_type": "stream",
     "text": [
      "Python 3.10.4\n"
     ]
    }
   ],
   "source": [
    "!python -V"
   ],
   "metadata": {
    "collapsed": false
   }
  },
  {
   "cell_type": "code",
   "execution_count": 3,
   "outputs": [
    {
     "name": "stdout",
     "output_type": "stream",
     "text": [
      "pip 22.3.1 from C:\\Users\\zhuwe\\PycharmProjects\\lianghuajiaoyi\\lib\\site-packages\\pip (python 3.10)\n",
      "\n"
     ]
    }
   ],
   "source": [
    "!pip -V"
   ],
   "metadata": {
    "collapsed": false
   }
  },
  {
   "cell_type": "code",
   "execution_count": null,
   "outputs": [],
   "source": [],
   "metadata": {
    "collapsed": false
   }
  }
 ],
 "metadata": {
  "kernelspec": {
   "display_name": "Python 3",
   "language": "python",
   "name": "python3"
  },
  "language_info": {
   "codemirror_mode": {
    "name": "ipython",
    "version": 2
   },
   "file_extension": ".py",
   "mimetype": "text/x-python",
   "name": "python",
   "nbconvert_exporter": "python",
   "pygments_lexer": "ipython2",
   "version": "2.7.6"
  }
 },
 "nbformat": 4,
 "nbformat_minor": 0
}
