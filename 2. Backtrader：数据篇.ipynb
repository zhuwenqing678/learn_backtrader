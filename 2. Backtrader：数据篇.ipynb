{
 "cells": [
  {
   "cell_type": "code",
   "execution_count": 1,
   "outputs": [],
   "source": [
    "import backtrader as bt # 导入 Backtrader\n",
    "import backtrader.indicators as btind # 导入策略分析模块等待\n",
    "import backtrader.feeds as btfeeds # 导入数据模块"
   ],
   "metadata": {
    "collapsed": false
   }
  },
  {
   "cell_type": "code",
   "execution_count": 5,
   "outputs": [],
   "source": [
    "import datetime"
   ],
   "metadata": {
    "collapsed": false
   }
  },
  {
   "cell_type": "code",
   "execution_count": 2,
   "outputs": [],
   "source": [
    "cerebro = bt.Cerebro()\n"
   ],
   "metadata": {
    "collapsed": false
   }
  },
  {
   "cell_type": "code",
   "execution_count": 3,
   "outputs": [
    {
     "data": {
      "text/plain": "<backtrader.cerebro.Cerebro at 0x1dc1da75600>"
     },
     "execution_count": 3,
     "metadata": {},
     "output_type": "execute_result"
    }
   ],
   "source": [
    "cerebro"
   ],
   "metadata": {
    "collapsed": false
   }
  },
  {
   "cell_type": "code",
   "execution_count": 6,
   "outputs": [],
   "source": [
    "st_date = datetime.datetime(2019,1,2)"
   ],
   "metadata": {
    "collapsed": false
   }
  },
  {
   "cell_type": "code",
   "execution_count": 7,
   "outputs": [
    {
     "data": {
      "text/plain": "datetime.datetime(2019, 1, 2, 0, 0)"
     },
     "execution_count": 7,
     "metadata": {},
     "output_type": "execute_result"
    }
   ],
   "source": [
    "st_date"
   ],
   "metadata": {
    "collapsed": false
   }
  },
  {
   "cell_type": "code",
   "execution_count": 8,
   "outputs": [],
   "source": [
    "ed_date = datetime.datetime(2021,1,28)"
   ],
   "metadata": {
    "collapsed": false
   }
  },
  {
   "cell_type": "code",
   "execution_count": 10,
   "outputs": [
    {
     "data": {
      "text/plain": "datetime.datetime(2021, 1, 28, 0, 0)"
     },
     "execution_count": 10,
     "metadata": {},
     "output_type": "execute_result"
    }
   ],
   "source": [
    "ed_date"
   ],
   "metadata": {
    "collapsed": false
   }
  },
  {
   "cell_type": "code",
   "execution_count": 15,
   "outputs": [],
   "source": [
    "class TestStrategy(bt.Strategy):\n",
    "    def __init__(self):\n",
    "        # 打印数据集和数据集对应的名称\n",
    "        print(\"-------------self.datas-------------\")\n",
    "        print(self.datas)\n",
    "        print(\"-------------self.data-------------\")\n",
    "        print(self.data._name, self.data) # 返回第一个导入的数据表格，缩写形式\n",
    "        print(\"-------------self.data0-------------\")\n",
    "        print(self.data0._name, self.data0) # 返回第一个导入的数据表格，缩写形式\n",
    "        print(\"-------------self.datas[0]-------------\")\n",
    "        print(self.datas[0]._name, self.datas[0]) # 返回第一个导入的数据表格，常规形式\n",
    "        print(\"-------------self.datas[1]-------------\")\n",
    "        print(self.datas[1]._name, self.datas[1]) # 返回第二个导入的数据表格，常规形式\n",
    "        print(\"-------------self.datas[-1]-------------\")\n",
    "        print(self.datas[-1]._name, self.datas[-1]) # 返回最后一个导入的数据表格\n",
    "        print(\"-------------self.datas[-2]-------------\")\n",
    "        print(self.datas[-2]._name, self.datas[-2])"
   ],
   "metadata": {
    "collapsed": false
   }
  },
  {
   "cell_type": "code",
   "execution_count": 19,
   "outputs": [
    {
     "ename": "AttributeError",
     "evalue": "'NoneType' object has no attribute 'columns'",
     "output_type": "error",
     "traceback": [
      "\u001B[1;31m---------------------------------------------------------------------------\u001B[0m",
      "\u001B[1;31mAttributeError\u001B[0m                            Traceback (most recent call last)",
      "Cell \u001B[1;32mIn[19], line 1\u001B[0m\n\u001B[1;32m----> 1\u001B[0m datafeed1 \u001B[38;5;241m=\u001B[39m \u001B[43mbt\u001B[49m\u001B[38;5;241;43m.\u001B[39;49m\u001B[43mfeeds\u001B[49m\u001B[38;5;241;43m.\u001B[39;49m\u001B[43mPandasData\u001B[49m\u001B[43m(\u001B[49m\n\u001B[0;32m      2\u001B[0m \u001B[43m                                \u001B[49m\u001B[43mfromdate\u001B[49m\u001B[38;5;241;43m=\u001B[39;49m\u001B[43mst_date\u001B[49m\u001B[43m,\u001B[49m\n\u001B[0;32m      3\u001B[0m \u001B[43m                                \u001B[49m\u001B[43mtodate\u001B[49m\u001B[38;5;241;43m=\u001B[39;49m\u001B[43med_date\u001B[49m\u001B[43m)\u001B[49m\n",
      "File \u001B[1;32m~\\PycharmProjects\\lianghuajiaoyi\\lib\\site-packages\\backtrader\\metabase.py:88\u001B[0m, in \u001B[0;36mMetaBase.__call__\u001B[1;34m(cls, *args, **kwargs)\u001B[0m\n\u001B[0;32m     86\u001B[0m _obj, args, kwargs \u001B[38;5;241m=\u001B[39m \u001B[38;5;28mcls\u001B[39m\u001B[38;5;241m.\u001B[39mdonew(\u001B[38;5;241m*\u001B[39margs, \u001B[38;5;241m*\u001B[39m\u001B[38;5;241m*\u001B[39mkwargs)\n\u001B[0;32m     87\u001B[0m _obj, args, kwargs \u001B[38;5;241m=\u001B[39m \u001B[38;5;28mcls\u001B[39m\u001B[38;5;241m.\u001B[39mdopreinit(_obj, \u001B[38;5;241m*\u001B[39margs, \u001B[38;5;241m*\u001B[39m\u001B[38;5;241m*\u001B[39mkwargs)\n\u001B[1;32m---> 88\u001B[0m _obj, args, kwargs \u001B[38;5;241m=\u001B[39m \u001B[38;5;28mcls\u001B[39m\u001B[38;5;241m.\u001B[39mdoinit(_obj, \u001B[38;5;241m*\u001B[39margs, \u001B[38;5;241m*\u001B[39m\u001B[38;5;241m*\u001B[39mkwargs)\n\u001B[0;32m     89\u001B[0m _obj, args, kwargs \u001B[38;5;241m=\u001B[39m \u001B[38;5;28mcls\u001B[39m\u001B[38;5;241m.\u001B[39mdopostinit(_obj, \u001B[38;5;241m*\u001B[39margs, \u001B[38;5;241m*\u001B[39m\u001B[38;5;241m*\u001B[39mkwargs)\n\u001B[0;32m     90\u001B[0m \u001B[38;5;28;01mreturn\u001B[39;00m _obj\n",
      "File \u001B[1;32m~\\PycharmProjects\\lianghuajiaoyi\\lib\\site-packages\\backtrader\\metabase.py:78\u001B[0m, in \u001B[0;36mMetaBase.doinit\u001B[1;34m(cls, _obj, *args, **kwargs)\u001B[0m\n\u001B[0;32m     77\u001B[0m \u001B[38;5;28;01mdef\u001B[39;00m \u001B[38;5;21mdoinit\u001B[39m(\u001B[38;5;28mcls\u001B[39m, _obj, \u001B[38;5;241m*\u001B[39margs, \u001B[38;5;241m*\u001B[39m\u001B[38;5;241m*\u001B[39mkwargs):\n\u001B[1;32m---> 78\u001B[0m     _obj\u001B[38;5;241m.\u001B[39m\u001B[38;5;21m__init__\u001B[39m(\u001B[38;5;241m*\u001B[39margs, \u001B[38;5;241m*\u001B[39m\u001B[38;5;241m*\u001B[39mkwargs)\n\u001B[0;32m     79\u001B[0m     \u001B[38;5;28;01mreturn\u001B[39;00m _obj, args, kwargs\n",
      "File \u001B[1;32m~\\PycharmProjects\\lianghuajiaoyi\\lib\\site-packages\\backtrader\\feeds\\pandafeed.py:167\u001B[0m, in \u001B[0;36mPandasData.__init__\u001B[1;34m(self)\u001B[0m\n\u001B[0;32m    164\u001B[0m \u001B[38;5;28msuper\u001B[39m(PandasData, \u001B[38;5;28mself\u001B[39m)\u001B[38;5;241m.\u001B[39m\u001B[38;5;21m__init__\u001B[39m()\n\u001B[0;32m    166\u001B[0m \u001B[38;5;66;03m# these \"colnames\" can be strings or numeric types\u001B[39;00m\n\u001B[1;32m--> 167\u001B[0m colnames \u001B[38;5;241m=\u001B[39m \u001B[38;5;28mlist\u001B[39m(\u001B[38;5;28;43mself\u001B[39;49m\u001B[38;5;241;43m.\u001B[39;49m\u001B[43mp\u001B[49m\u001B[38;5;241;43m.\u001B[39;49m\u001B[43mdataname\u001B[49m\u001B[38;5;241;43m.\u001B[39;49m\u001B[43mcolumns\u001B[49m\u001B[38;5;241m.\u001B[39mvalues)\n\u001B[0;32m    168\u001B[0m \u001B[38;5;28;01mif\u001B[39;00m \u001B[38;5;28mself\u001B[39m\u001B[38;5;241m.\u001B[39mp\u001B[38;5;241m.\u001B[39mdatetime \u001B[38;5;129;01mis\u001B[39;00m \u001B[38;5;28;01mNone\u001B[39;00m:\n\u001B[0;32m    169\u001B[0m     \u001B[38;5;66;03m# datetime is expected as index col and hence not returned\u001B[39;00m\n\u001B[0;32m    170\u001B[0m     \u001B[38;5;28;01mpass\u001B[39;00m\n",
      "\u001B[1;31mAttributeError\u001B[0m: 'NoneType' object has no attribute 'columns'"
     ]
    }
   ],
   "source": [
    "datafeed1 = bt.feeds.PandasData(dataname=data[1],\n",
    "                                fromdate=st_date,\n",
    "                                todate=ed_date)\n"
   ],
   "metadata": {
    "collapsed": false
   }
  },
  {
   "cell_type": "code",
   "execution_count": 18,
   "outputs": [
    {
     "ename": "NameError",
     "evalue": "name 'datafeed1' is not defined",
     "output_type": "error",
     "traceback": [
      "\u001B[1;31m---------------------------------------------------------------------------\u001B[0m",
      "\u001B[1;31mNameError\u001B[0m                                 Traceback (most recent call last)",
      "Cell \u001B[1;32mIn[18], line 1\u001B[0m\n\u001B[1;32m----> 1\u001B[0m cerebro\u001B[38;5;241m.\u001B[39madddata(\u001B[43mdatafeed1\u001B[49m, name\u001B[38;5;241m=\u001B[39m\u001B[38;5;124m'\u001B[39m\u001B[38;5;124m600466.SH\u001B[39m\u001B[38;5;124m'\u001B[39m)\n",
      "\u001B[1;31mNameError\u001B[0m: name 'datafeed1' is not defined"
     ]
    }
   ],
   "source": [
    "cerebro.adddata(datafeed1, name='600466.SH')"
   ],
   "metadata": {
    "collapsed": false
   }
  },
  {
   "cell_type": "code",
   "execution_count": 13,
   "outputs": [],
   "source": [],
   "metadata": {
    "collapsed": false
   }
  }
 ],
 "metadata": {
  "kernelspec": {
   "display_name": "Python 3",
   "language": "python",
   "name": "python3"
  },
  "language_info": {
   "codemirror_mode": {
    "name": "ipython",
    "version": 2
   },
   "file_extension": ".py",
   "mimetype": "text/x-python",
   "name": "python",
   "nbconvert_exporter": "python",
   "pygments_lexer": "ipython2",
   "version": "2.7.6"
  }
 },
 "nbformat": 4,
 "nbformat_minor": 0
}
